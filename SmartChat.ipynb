{
 "cells": [
  {
   "cell_type": "markdown",
   "id": "cece5dd0-bbc9-4f21-831e-c467477da6b4",
   "metadata": {},
   "source": [
    "# SmartChat Project Pipeline\n",
    "\n",
    "This notebook will walk you through data loading, cleaning, EDA, model training, evaluation, and export steps all geared toward later building a Tableau dashboard.\n"
   ]
  },
  {
   "cell_type": "markdown",
   "id": "0bb5639c-caa1-43bd-921e-7fb7d13c65f6",
   "metadata": {},
   "source": [
    "## 1. Environment Setup\n",
    "\n",
    "Install required packages (run once in your shell):\n",
    "```bash\n",
    "pip install pandas numpy matplotlib nltk scikit-learn tensorflow\n"
   ]
  },
  {
   "cell_type": "markdown",
   "id": "cf771a03-40e6-456a-8d6c-8ab819898475",
   "metadata": {},
   "source": [
    "\n",
    "```markdown\n",
    "## 2. Imports & Configuration\n"
   ]
  },
  {
   "cell_type": "code",
   "execution_count": 4,
   "id": "4d9ab871-6501-43ce-bdf7-cc930549ef8b",
   "metadata": {},
   "outputs": [
    {
     "name": "stdout",
     "output_type": "stream",
     "text": [
      "Requirement already satisfied: streamlit in ./anaconda3/lib/python3.11/site-packages (1.45.0)\n",
      "Requirement already satisfied: altair<6,>=4.0 in ./anaconda3/lib/python3.11/site-packages (from streamlit) (5.5.0)\n",
      "Requirement already satisfied: blinker<2,>=1.5.0 in ./anaconda3/lib/python3.11/site-packages (from streamlit) (1.9.0)\n",
      "Requirement already satisfied: cachetools<6,>=4.0 in ./anaconda3/lib/python3.11/site-packages (from streamlit) (5.5.2)\n",
      "Requirement already satisfied: click<9,>=7.0 in ./anaconda3/lib/python3.11/site-packages (from streamlit) (8.0.4)\n",
      "Requirement already satisfied: numpy<3,>=1.23 in ./anaconda3/lib/python3.11/site-packages (from streamlit) (1.24.3)\n",
      "Requirement already satisfied: packaging<25,>=20 in ./anaconda3/lib/python3.11/site-packages (from streamlit) (23.1)\n",
      "Requirement already satisfied: pandas<3,>=1.4.0 in ./anaconda3/lib/python3.11/site-packages (from streamlit) (2.1.4)\n",
      "Requirement already satisfied: pillow<12,>=7.1.0 in ./anaconda3/lib/python3.11/site-packages (from streamlit) (10.0.1)\n",
      "Requirement already satisfied: protobuf<7,>=3.20 in ./anaconda3/lib/python3.11/site-packages (from streamlit) (4.25.3)\n",
      "Requirement already satisfied: pyarrow>=7.0 in ./anaconda3/lib/python3.11/site-packages (from streamlit) (11.0.0)\n",
      "Requirement already satisfied: requests<3,>=2.27 in ./anaconda3/lib/python3.11/site-packages (from streamlit) (2.32.3)\n",
      "Requirement already satisfied: tenacity<10,>=8.1.0 in ./anaconda3/lib/python3.11/site-packages (from streamlit) (8.2.2)\n",
      "Requirement already satisfied: toml<2,>=0.10.1 in ./anaconda3/lib/python3.11/site-packages (from streamlit) (0.10.2)\n",
      "Requirement already satisfied: typing-extensions<5,>=4.4.0 in ./anaconda3/lib/python3.11/site-packages (from streamlit) (4.12.0)\n",
      "Requirement already satisfied: gitpython!=3.1.19,<4,>=3.0.7 in ./anaconda3/lib/python3.11/site-packages (from streamlit) (3.1.44)\n",
      "Requirement already satisfied: pydeck<1,>=0.8.0b4 in ./anaconda3/lib/python3.11/site-packages (from streamlit) (0.9.1)\n",
      "Requirement already satisfied: tornado<7,>=6.0.3 in ./anaconda3/lib/python3.11/site-packages (from streamlit) (6.3.2)\n",
      "Requirement already satisfied: jinja2 in ./anaconda3/lib/python3.11/site-packages (from altair<6,>=4.0->streamlit) (3.1.2)\n",
      "Requirement already satisfied: jsonschema>=3.0 in ./anaconda3/lib/python3.11/site-packages (from altair<6,>=4.0->streamlit) (4.23.0)\n",
      "Requirement already satisfied: narwhals>=1.14.2 in ./anaconda3/lib/python3.11/site-packages (from altair<6,>=4.0->streamlit) (1.37.1)\n",
      "Requirement already satisfied: gitdb<5,>=4.0.1 in ./anaconda3/lib/python3.11/site-packages (from gitpython!=3.1.19,<4,>=3.0.7->streamlit) (4.0.12)\n",
      "Requirement already satisfied: python-dateutil>=2.8.2 in ./anaconda3/lib/python3.11/site-packages (from pandas<3,>=1.4.0->streamlit) (2.8.2)\n",
      "Requirement already satisfied: pytz>=2020.1 in ./anaconda3/lib/python3.11/site-packages (from pandas<3,>=1.4.0->streamlit) (2023.3.post1)\n",
      "Requirement already satisfied: tzdata>=2022.1 in ./anaconda3/lib/python3.11/site-packages (from pandas<3,>=1.4.0->streamlit) (2023.3)\n",
      "Requirement already satisfied: charset-normalizer<4,>=2 in ./anaconda3/lib/python3.11/site-packages (from requests<3,>=2.27->streamlit) (2.0.4)\n",
      "Requirement already satisfied: idna<4,>=2.5 in ./anaconda3/lib/python3.11/site-packages (from requests<3,>=2.27->streamlit) (3.4)\n",
      "Requirement already satisfied: urllib3<3,>=1.21.1 in ./anaconda3/lib/python3.11/site-packages (from requests<3,>=2.27->streamlit) (1.26.16)\n",
      "Requirement already satisfied: certifi>=2017.4.17 in ./anaconda3/lib/python3.11/site-packages (from requests<3,>=2.27->streamlit) (2025.4.26)\n",
      "Requirement already satisfied: smmap<6,>=3.0.1 in ./anaconda3/lib/python3.11/site-packages (from gitdb<5,>=4.0.1->gitpython!=3.1.19,<4,>=3.0.7->streamlit) (5.0.2)\n",
      "Requirement already satisfied: MarkupSafe>=2.0 in ./anaconda3/lib/python3.11/site-packages (from jinja2->altair<6,>=4.0->streamlit) (2.1.1)\n",
      "Requirement already satisfied: attrs>=22.2.0 in ./anaconda3/lib/python3.11/site-packages (from jsonschema>=3.0->altair<6,>=4.0->streamlit) (24.3.0)\n",
      "Requirement already satisfied: jsonschema-specifications>=2023.03.6 in ./anaconda3/lib/python3.11/site-packages (from jsonschema>=3.0->altair<6,>=4.0->streamlit) (2023.7.1)\n",
      "Requirement already satisfied: referencing>=0.28.4 in ./anaconda3/lib/python3.11/site-packages (from jsonschema>=3.0->altair<6,>=4.0->streamlit) (0.30.2)\n",
      "Requirement already satisfied: rpds-py>=0.7.1 in ./anaconda3/lib/python3.11/site-packages (from jsonschema>=3.0->altair<6,>=4.0->streamlit) (0.22.3)\n",
      "Requirement already satisfied: six>=1.5 in ./anaconda3/lib/python3.11/site-packages (from python-dateutil>=2.8.2->pandas<3,>=1.4.0->streamlit) (1.16.0)\n",
      "\n",
      "\u001b[1m[\u001b[0m\u001b[34;49mnotice\u001b[0m\u001b[1;39;49m]\u001b[0m\u001b[39;49m A new release of pip is available: \u001b[0m\u001b[31;49m24.3.1\u001b[0m\u001b[39;49m -> \u001b[0m\u001b[32;49m25.1.1\u001b[0m\n",
      "\u001b[1m[\u001b[0m\u001b[34;49mnotice\u001b[0m\u001b[1;39;49m]\u001b[0m\u001b[39;49m To update, run: \u001b[0m\u001b[32;49mpip install --upgrade pip\u001b[0m\n",
      "Note: you may need to restart the kernel to use updated packages.\n"
     ]
    }
   ],
   "source": [
    "# magic command ensures pip runs in the notebook’s environment\n",
    "%pip install streamlit"
   ]
  },
  {
   "cell_type": "code",
   "execution_count": 5,
   "id": "445546c7-ac92-415e-bf5f-198640dedf26",
   "metadata": {},
   "outputs": [],
   "source": [
    "import os\n",
    "# 0 = all logs, 1 = filter out INFO, 2 = filter out INFO & WARNING, 3 = filter out all INFO/WARNING/ERROR\n",
    "os.environ['TF_CPP_MIN_LOG_LEVEL'] = '2'  \n",
    "\n",
    "import json\n",
    "\n",
    "import re\n",
    "import numpy as np\n",
    "import pandas as pd\n",
    "import matplotlib.pyplot as plt\n",
    "from collections import Counter\n",
    "from nltk.tokenize import word_tokenize\n",
    "from sklearn.model_selection import train_test_split\n",
    "\n",
    "# Now import TensorFlow\n",
    "import tensorflow as tf\n",
    "from tensorflow.keras.preprocessing.text import Tokenizer\n",
    "from tensorflow.keras.preprocessing.sequence import pad_sequences\n",
    "from tensorflow.keras.layers import Input, Embedding, LSTM, Dense\n",
    "from tensorflow.keras.models import Model\n",
    "\n",
    "# Make plots inline\n",
    "%matplotlib inline\n",
    "\n",
    "# Set random seeds\n",
    "np.random.seed(42)\n",
    "tf.random.set_seed(42)\n",
    "\n",
    "# prevent Python logger:\n",
    "tf.get_logger().setLevel('ERROR')"
   ]
  },
  {
   "cell_type": "markdown",
   "id": "c4a81be1-aef9-46e4-8c02-2ba80341b731",
   "metadata": {},
   "source": [
    "## 3. Data Ingestion\n",
    "Load and concatenate datasets."
   ]
  },
  {
   "cell_type": "code",
   "execution_count": 7,
   "id": "bd5b05a8-bd6c-40cb-b8f2-687b58c61abc",
   "metadata": {},
   "outputs": [
    {
     "name": "stdout",
     "output_type": "stream",
     "text": [
      "Loaded 3725 dialog pairs and 405 intent patterns → total 4130 examples\n"
     ]
    },
    {
     "data": {
      "text/html": [
       "<div>\n",
       "<style scoped>\n",
       "    .dataframe tbody tr th:only-of-type {\n",
       "        vertical-align: middle;\n",
       "    }\n",
       "\n",
       "    .dataframe tbody tr th {\n",
       "        vertical-align: top;\n",
       "    }\n",
       "\n",
       "    .dataframe thead th {\n",
       "        text-align: right;\n",
       "    }\n",
       "</style>\n",
       "<table border=\"1\" class=\"dataframe\">\n",
       "  <thead>\n",
       "    <tr style=\"text-align: right;\">\n",
       "      <th></th>\n",
       "      <th>question</th>\n",
       "      <th>answer</th>\n",
       "      <th>intent</th>\n",
       "    </tr>\n",
       "  </thead>\n",
       "  <tbody>\n",
       "    <tr>\n",
       "      <th>0</th>\n",
       "      <td>hi, how are you doing?</td>\n",
       "      <td>i'm fine. how about yourself?</td>\n",
       "      <td>NaN</td>\n",
       "    </tr>\n",
       "    <tr>\n",
       "      <th>1</th>\n",
       "      <td>i'm fine. how about yourself?</td>\n",
       "      <td>i'm pretty good. thanks for asking.</td>\n",
       "      <td>NaN</td>\n",
       "    </tr>\n",
       "    <tr>\n",
       "      <th>2</th>\n",
       "      <td>i'm pretty good. thanks for asking.</td>\n",
       "      <td>no problem. so how have you been?</td>\n",
       "      <td>NaN</td>\n",
       "    </tr>\n",
       "    <tr>\n",
       "      <th>3</th>\n",
       "      <td>no problem. so how have you been?</td>\n",
       "      <td>i've been great. what about you?</td>\n",
       "      <td>NaN</td>\n",
       "    </tr>\n",
       "    <tr>\n",
       "      <th>4</th>\n",
       "      <td>i've been great. what about you?</td>\n",
       "      <td>i've been good. i'm in school right now.</td>\n",
       "      <td>NaN</td>\n",
       "    </tr>\n",
       "  </tbody>\n",
       "</table>\n",
       "</div>"
      ],
      "text/plain": [
       "                              question  \\\n",
       "0               hi, how are you doing?   \n",
       "1        i'm fine. how about yourself?   \n",
       "2  i'm pretty good. thanks for asking.   \n",
       "3    no problem. so how have you been?   \n",
       "4     i've been great. what about you?   \n",
       "\n",
       "                                     answer intent  \n",
       "0             i'm fine. how about yourself?    NaN  \n",
       "1       i'm pretty good. thanks for asking.    NaN  \n",
       "2         no problem. so how have you been?    NaN  \n",
       "3          i've been great. what about you?    NaN  \n",
       "4  i've been good. i'm in school right now.    NaN  "
      ]
     },
     "execution_count": 7,
     "metadata": {},
     "output_type": "execute_result"
    }
   ],
   "source": [
    "# Load the tab-separated dialog pairs\n",
    "dialogs_path = 'dialogs.txt'\n",
    "dialogs_df = pd.read_csv(\n",
    "    dialogs_path,\n",
    "    sep='\\t',               # tabs separate question ⇆ answer\n",
    "    header=None,            # no header row\n",
    "    names=['question','answer'],\n",
    "    quoting=3               # to avoid interpreting quotes\n",
    ")\n",
    "\n",
    "# Load the intents JSON\n",
    "intents_path = 'intents.json'\n",
    "with open(intents_path, 'r') as f:\n",
    "    intents_data = json.load(f)\n",
    "\n",
    "# Flatten patterns → responses into a DataFrame\n",
    "rows = []\n",
    "for intent in intents_data['intents']:\n",
    "    tag = intent['tag']\n",
    "    # for each example sentence (pattern), pick the first response\n",
    "    for pattern in intent['patterns']:\n",
    "        rows.append({\n",
    "            'question': pattern,\n",
    "            'answer': intent['responses'][0],\n",
    "            'intent': tag\n",
    "        })\n",
    "intents_df = pd.DataFrame(rows)\n",
    "\n",
    "# Combine if you want a unified training set\n",
    "#    — or just use dialogs_df for your Seq2Seq pipeline\n",
    "df = pd.concat([dialogs_df, intents_df], ignore_index=True)\n",
    "\n",
    "print(f\"Loaded {len(dialogs_df)} dialog pairs and {len(intents_df)} intent patterns → total {len(df)} examples\")\n",
    "df.head()"
   ]
  },
  {
   "cell_type": "code",
   "execution_count": 8,
   "id": "4f5989a3-0c9c-42c7-98fa-bf75306923a6",
   "metadata": {},
   "outputs": [],
   "source": [
    "dialogs_df['intent'] = 'generic_dialog'\n",
    "\n",
    "# concat\n",
    "df = pd.concat([dialogs_df, intents_df], ignore_index=True)\n"
   ]
  },
  {
   "cell_type": "markdown",
   "id": "1451f132-04d4-4fa5-a6b4-92ab02b05eb4",
   "metadata": {},
   "source": [
    "## 4. Text Cleaning & Tokenization\n",
    "Define a cleaning function, apply to both question & answer, then tokenize."
   ]
  },
  {
   "cell_type": "code",
   "execution_count": 10,
   "id": "49d220bb-c23e-4a31-8d91-f07adc73d4c5",
   "metadata": {},
   "outputs": [
    {
     "data": {
      "text/html": [
       "<div>\n",
       "<style scoped>\n",
       "    .dataframe tbody tr th:only-of-type {\n",
       "        vertical-align: middle;\n",
       "    }\n",
       "\n",
       "    .dataframe tbody tr th {\n",
       "        vertical-align: top;\n",
       "    }\n",
       "\n",
       "    .dataframe thead th {\n",
       "        text-align: right;\n",
       "    }\n",
       "</style>\n",
       "<table border=\"1\" class=\"dataframe\">\n",
       "  <thead>\n",
       "    <tr style=\"text-align: right;\">\n",
       "      <th></th>\n",
       "      <th>question</th>\n",
       "      <th>answer</th>\n",
       "      <th>intent</th>\n",
       "      <th>q_tokens</th>\n",
       "      <th>a_tokens</th>\n",
       "    </tr>\n",
       "  </thead>\n",
       "  <tbody>\n",
       "    <tr>\n",
       "      <th>1864</th>\n",
       "      <td>they have to see it happen</td>\n",
       "      <td>they don't believe us</td>\n",
       "      <td>generic_dialog</td>\n",
       "      <td>[they, have, to, see, it, happen]</td>\n",
       "      <td>[they, do, n't, believe, us]</td>\n",
       "    </tr>\n",
       "    <tr>\n",
       "      <th>1210</th>\n",
       "      <td>that was a nice funeral</td>\n",
       "      <td>yes dad it was</td>\n",
       "      <td>generic_dialog</td>\n",
       "      <td>[that, was, a, nice, funeral]</td>\n",
       "      <td>[yes, dad, it, was]</td>\n",
       "    </tr>\n",
       "    <tr>\n",
       "      <th>1924</th>\n",
       "      <td>because i'll never find one for such a low price</td>\n",
       "      <td>you're right about that keep saving your money</td>\n",
       "      <td>generic_dialog</td>\n",
       "      <td>[because, i, 'll, never, find, one, for, such,...</td>\n",
       "      <td>[you, 're, right, about, that, keep, saving, y...</td>\n",
       "    </tr>\n",
       "  </tbody>\n",
       "</table>\n",
       "</div>"
      ],
      "text/plain": [
       "                                              question  \\\n",
       "1864                        they have to see it happen   \n",
       "1210                           that was a nice funeral   \n",
       "1924  because i'll never find one for such a low price   \n",
       "\n",
       "                                              answer          intent  \\\n",
       "1864                           they don't believe us  generic_dialog   \n",
       "1210                                  yes dad it was  generic_dialog   \n",
       "1924  you're right about that keep saving your money  generic_dialog   \n",
       "\n",
       "                                               q_tokens  \\\n",
       "1864                  [they, have, to, see, it, happen]   \n",
       "1210                      [that, was, a, nice, funeral]   \n",
       "1924  [because, i, 'll, never, find, one, for, such,...   \n",
       "\n",
       "                                               a_tokens  \n",
       "1864                       [they, do, n't, believe, us]  \n",
       "1210                                [yes, dad, it, was]  \n",
       "1924  [you, 're, right, about, that, keep, saving, y...  "
      ]
     },
     "execution_count": 10,
     "metadata": {},
     "output_type": "execute_result"
    }
   ],
   "source": [
    "def clean_text(s):\n",
    "    s = s.lower()\n",
    "    s = re.sub(r\"<[^>]+>|http\\S+\", \"\", s)      # strip HTML/URLs\n",
    "    s = re.sub(r\"[^a-z0-9\\s']\", \"\", s)          # keep letters, numbers, apostrophes\n",
    "    s = re.sub(r\"\\s+\", \" \", s).strip()\n",
    "    return s\n",
    "\n",
    "# Clean\n",
    "df[\"question\"] = df[\"question\"].astype(str).apply(clean_text)\n",
    "df[\"answer\"]   = df[\"answer\"].astype(str).apply(clean_text)\n",
    "\n",
    "# Tokenize\n",
    "df[\"q_tokens\"] = df[\"question\"].apply(word_tokenize)\n",
    "df[\"a_tokens\"] = df[\"answer\"].apply(word_tokenize)\n",
    "\n",
    "# Quick check\n",
    "df.sample(3)\n"
   ]
  },
  {
   "cell_type": "markdown",
   "id": "81b37c1c-7983-4eea-a647-d1d5a668dcf2",
   "metadata": {},
   "source": [
    "## 5. Exploratory Data Analysis (EDA)\n",
    "### 5.1 Question-Length Distribution"
   ]
  },
  {
   "cell_type": "code",
   "execution_count": 12,
   "id": "143dd8b6-3ba8-4bfb-82d4-0df2d4b35acb",
   "metadata": {},
   "outputs": [
    {
     "data": {
      "image/png": "[encoded data removed]",
      "text/plain": [
       "<Figure size 640x480 with 1 Axes>"
      ]
     },
     "metadata": {},
     "output_type": "display_data"
    }
   ],
   "source": [
    "seq_lens = df['q_tokens'].apply(len)\n",
    "plt.hist(seq_lens, bins=20)\n",
    "plt.title(\"Question Length Distribution\")\n",
    "plt.xlabel(\"Token Count\")\n",
    "plt.ylabel(\"Examples\")\n",
    "plt.savefig(\"question_length_dist.png\")\n",
    "plt.show()"
   ]
  },
  {
   "cell_type": "markdown",
   "id": "dba82e7f-a4a2-49f7-8a0d-82b3aebff36b",
   "metadata": {},
   "source": [
    "### 5.2 Top-10 Token Frequencies"
   ]
  },
  {
   "cell_type": "code",
   "execution_count": 14,
   "id": "df5d5233-91cd-464c-8e72-7ca4fcd22a85",
   "metadata": {},
   "outputs": [
    {
     "data": {
      "image/png": "[encoded data removed]",
      "text/plain": [
       "<Figure size 640x480 with 1 Axes>"
      ]
     },
     "metadata": {},
     "output_type": "display_data"
    }
   ],
   "source": [
    "all_tokens = sum(df['q_tokens'].tolist(), []) + sum(df['a_tokens'].tolist(), [])\n",
    "top10 = Counter(all_tokens).most_common(10)\n",
    "tokens, counts = zip(*top10)\n",
    "\n",
    "plt.bar(tokens, counts)\n",
    "plt.xticks(rotation=45)\n",
    "plt.title(\"Top 10 Tokens\")\n",
    "plt.savefig(\"top_tokens.png\")\n",
    "plt.show()"
   ]
  },
  {
   "cell_type": "markdown",
   "id": "fb2e94f9-2226-46b0-b49f-281500e2d999",
   "metadata": {},
   "source": [
    "## 6. Train / Validation / Test Split\n",
    "Stratify on `intent` for the first split, then random split."
   ]
  },
  {
   "cell_type": "code",
   "execution_count": 16,
   "id": "a8dee5dc-4399-40b2-94cd-aaebe7724dbd",
   "metadata": {},
   "outputs": [
    {
     "name": "stdout",
     "output_type": "stream",
     "text": [
      "3304 413 413\n"
     ]
    }
   ],
   "source": [
    "# 6.1 Stratified split 80/20\n",
    "train_df, temp_df = train_test_split(\n",
    "    df,\n",
    "    test_size=0.2,\n",
    "    random_state=42,\n",
    "    stratify=df['intent']\n",
    ")\n",
    "\n",
    "# 6.2 Random split 50/50 of the temp for val/test\n",
    "val_df, test_df = train_test_split(\n",
    "    temp_df,\n",
    "    test_size=0.5,\n",
    "    random_state=42,\n",
    "    shuffle=True\n",
    ")\n",
    "\n",
    "print(len(train_df), len(val_df), len(test_df))"
   ]
  },
  {
   "cell_type": "code",
   "execution_count": 17,
   "id": "334551f0-1d8b-4384-a569-1ebfd04e26e2",
   "metadata": {},
   "outputs": [
    {
     "name": "stdout",
     "output_type": "stream",
     "text": [
      "\n",
      "Train set (3304 samples) intent distribution:\n",
      "intent\n",
      "generic_dialog    90.2%\n",
      "course             0.7%\n",
      "scholarship        0.6%\n",
      "hostel             0.5%\n",
      "fees               0.5%\n",
      "hours              0.4%\n",
      "creator            0.4%\n",
      "number             0.4%\n",
      "library            0.3%\n",
      "location           0.3%\n",
      "salutaion          0.3%\n",
      "vacation           0.3%\n",
      "goodbye            0.3%\n",
      "document           0.3%\n",
      "name               0.3%\n",
      "canteen            0.3%\n",
      "event              0.3%\n",
      "sem                0.3%\n",
      "ragging            0.2%\n",
      "greeting           0.2%\n",
      "swear              0.2%\n",
      "uniform            0.2%\n",
      "college intake     0.2%\n",
      "placement          0.2%\n",
      "principal          0.2%\n",
      "syllabus           0.2%\n",
      "sports             0.2%\n",
      "floors             0.2%\n",
      "menu               0.2%\n",
      "task               0.2%\n",
      "committee          0.2%\n",
      "admission          0.2%\n",
      "facilities         0.1%\n",
      "computerhod        0.1%\n",
      "ithod              0.1%\n",
      "extchod            0.1%\n",
      "random             0.1%\n",
      "hod                0.1%\n",
      "infrastructure     0.1%\n",
      "Name: proportion, dtype: object\n",
      "\n",
      "Val set (413 samples) intent distribution:\n",
      "intent\n",
      "generic_dialog    90.3%\n",
      "fees               1.0%\n",
      "location           0.7%\n",
      "canteen            0.5%\n",
      "greeting           0.5%\n",
      "number             0.5%\n",
      "goodbye            0.5%\n",
      "library            0.5%\n",
      "document           0.5%\n",
      "hostel             0.5%\n",
      "menu               0.5%\n",
      "creator            0.2%\n",
      "ragging            0.2%\n",
      "hours              0.2%\n",
      "syllabus           0.2%\n",
      "name               0.2%\n",
      "random             0.2%\n",
      "facilities         0.2%\n",
      "uniform            0.2%\n",
      "committee          0.2%\n",
      "ithod              0.2%\n",
      "course             0.2%\n",
      "placement          0.2%\n",
      "sem                0.2%\n",
      "vacation           0.2%\n",
      "principal          0.2%\n",
      "infrastructure     0.2%\n",
      "extchod            0.2%\n",
      "Name: proportion, dtype: object\n",
      "\n",
      "Test set (413 samples) intent distribution:\n",
      "intent\n",
      "generic_dialog    90.1%\n",
      "scholarship        1.2%\n",
      "course             1.0%\n",
      "salutaion          0.7%\n",
      "event              0.5%\n",
      "college intake     0.5%\n",
      "creator            0.5%\n",
      "hours              0.5%\n",
      "name               0.5%\n",
      "hostel             0.5%\n",
      "swear              0.5%\n",
      "vacation           0.2%\n",
      "number             0.2%\n",
      "floors             0.2%\n",
      "task               0.2%\n",
      "ragging            0.2%\n",
      "admission          0.2%\n",
      "placement          0.2%\n",
      "sem                0.2%\n",
      "hod                0.2%\n",
      "fees               0.2%\n",
      "document           0.2%\n",
      "sports             0.2%\n",
      "uniform            0.2%\n",
      "library            0.2%\n",
      "computerhod        0.2%\n",
      "Name: proportion, dtype: object\n"
     ]
    }
   ],
   "source": [
    "for name, split in [(\"Train\", train_df), (\"Val\", val_df), (\"Test\", test_df)]:\n",
    "    print(f\"\\n{name} set ({len(split)} samples) intent distribution:\")\n",
    "    print((split['intent']\n",
    "           .value_counts(normalize=True)\n",
    "           .mul(100)\n",
    "           .round(1)\n",
    "           .astype(str) + '%'))"
   ]
  },
  {
   "cell_type": "markdown",
   "id": "538f5e53-8b2e-4421-b472-806baffb56ce",
   "metadata": {},
   "source": [
    "## 7. Balance the Training Set (Down-sampling)\n",
    "Down-sample the majority class (“generic_dialog”) so that it’s closer in size to your minority intents."
   ]
  },
  {
   "cell_type": "code",
   "execution_count": 19,
   "id": "78df9392-1a1c-4716-ab70-bf6d9739ef50",
   "metadata": {},
   "outputs": [
    {
     "name": "stdout",
     "output_type": "stream",
     "text": [
      "Balanced train set shape: (368, 5)\n",
      "intent\n",
      "generic_dialog    44\n",
      "course            22\n",
      "scholarship       21\n",
      "hostel            18\n",
      "fees              18\n",
      "hours             14\n",
      "creator           13\n",
      "number            12\n",
      "library           11\n",
      "location          11\n",
      "salutaion         10\n",
      "vacation          10\n",
      "goodbye           10\n",
      "document          10\n",
      "name              10\n",
      "canteen            9\n",
      "event              9\n",
      "sem                9\n",
      "ragging            8\n",
      "greeting           8\n",
      "swear              7\n",
      "uniform            7\n",
      "college intake     7\n",
      "placement          7\n",
      "principal          6\n",
      "syllabus           6\n",
      "sports             6\n",
      "floors             6\n",
      "menu               5\n",
      "task               5\n",
      "committee          5\n",
      "admission          5\n",
      "facilities         4\n",
      "computerhod        3\n",
      "ithod              3\n",
      "extchod            3\n",
      "random             2\n",
      "hod                2\n",
      "infrastructure     2\n",
      "Name: count, dtype: int64\n"
     ]
    }
   ],
   "source": [
    "from sklearn.utils import resample\n",
    "\n",
    "# Separate out generic_dialog vs. the rest\n",
    "major = train_df[train_df.intent == 'generic_dialog']\n",
    "minor = train_df[train_df.intent != 'generic_dialog']\n",
    "\n",
    "# Down-sample to match, say, twice the size of the largest minority class\n",
    "max_minority = minor.intent.value_counts().max()\n",
    "downsampled_major = resample(\n",
    "    major,\n",
    "    replace=False,\n",
    "    n_samples=2 * max_minority,\n",
    "    random_state=42\n",
    ")\n",
    "\n",
    "balanced_train = pd.concat([downsampled_major, minor])\n",
    "print(\"Balanced train set shape:\", balanced_train.shape)\n",
    "print(balanced_train.intent.value_counts())\n"
   ]
  },
  {
   "cell_type": "markdown",
   "id": "0962ae8c-e12b-4c85-a9dc-5c971d76188e",
   "metadata": {},
   "source": [
    "## 8. Vectorization & Padding\n",
    "Fit a Keras Tokenizer on the full data frame `df`, then pad sequences for each split."
   ]
  },
  {
   "cell_type": "code",
   "execution_count": 21,
   "id": "b4f8e7ea-61eb-4a66-bf54-5c7ffef5a5aa",
   "metadata": {},
   "outputs": [],
   "source": [
    "MAX_VOCAB = 20000\n",
    "MAX_LEN   = 50   # encoder length\n",
    "\n",
    "# Fit tokenizer on entire corpus\n",
    "tokenizer = Tokenizer(num_words=MAX_VOCAB, oov_token=\"<UNK>\")\n",
    "tokenizer.fit_on_texts(pd.concat([df.question, df.answer]))\n",
    "\n",
    "def pad_q(texts):\n",
    "    # Encoder input: pad to MAX_LEN\n",
    "    return pad_sequences(\n",
    "        tokenizer.texts_to_sequences(texts),\n",
    "        maxlen=MAX_LEN,\n",
    "        padding='post',\n",
    "        truncating='post'\n",
    "    )\n",
    "\n",
    "def pad_a(texts):\n",
    "    # Decoder sequences: pad to MAX_LEN+1 so we can shift\n",
    "    return pad_sequences(\n",
    "        tokenizer.texts_to_sequences(texts),\n",
    "        maxlen=MAX_LEN + 1,\n",
    "        padding='post',\n",
    "        truncating='post'\n",
    "    )\n",
    "\n",
    "# --- Balanced train set ---\n",
    "X_bal_q = pad_q(balanced_train.question)\n",
    "X_bal_a = pad_a(balanced_train.answer)\n",
    "\n",
    "# --- Validation & Test sets ---\n",
    "X_val_q  = pad_q(val_df.question)\n",
    "X_val_a  = pad_a(val_df.answer)\n",
    "X_test_q = pad_q(test_df.question)\n",
    "X_test_a = pad_a(test_df.answer)\n"
   ]
  },
  {
   "cell_type": "markdown",
   "id": "cb887fc6-d1a0-4557-b09d-0e62538522d3",
   "metadata": {},
   "source": [
    "## 9. Build Seq2Seq Model with Attention"
   ]
  },
  {
   "cell_type": "code",
   "execution_count": 23,
   "id": "e772f23c-6b54-4056-914b-49f215f90e98",
   "metadata": {},
   "outputs": [
    {
     "data": {
      "text/html": [
       "<pre style=\"white-space:pre;overflow-x:auto;line-height:normal;font-family:Menlo,'DejaVu Sans Mono',consolas,'Courier New',monospace\"><span style=\"font-weight: bold\">Model: \"functional_1\"</span>\n",
       "</pre>\n"
      ],
      "text/plain": [
       "\u001b[1mModel: \"functional_1\"\u001b[0m\n"
      ]
     },
     "metadata": {},
     "output_type": "display_data"
    },
    {
     "data": {
      "text/html": [
       "<pre style=\"white-space:pre;overflow-x:auto;line-height:normal;font-family:Menlo,'DejaVu Sans Mono',consolas,'Courier New',monospace\">┏━━━━━━━━━━━━━━━━━━━━━┳━━━━━━━━━━━━━━━━━━━┳━━━━━━━━━━━━┳━━━━━━━━━━━━━━━━━━━┓\n",
       "┃<span style=\"font-weight: bold\"> Layer (type)        </span>┃<span style=\"font-weight: bold\"> Output Shape      </span>┃<span style=\"font-weight: bold\">    Param # </span>┃<span style=\"font-weight: bold\"> Connected to      </span>┃\n",
       "┡━━━━━━━━━━━━━━━━━━━━━╇━━━━━━━━━━━━━━━━━━━╇━━━━━━━━━━━━╇━━━━━━━━━━━━━━━━━━━┩\n",
       "│ input_layer         │ (<span style=\"color: #00d7ff; text-decoration-color: #00d7ff\">None</span>, <span style=\"color: #00af00; text-decoration-color: #00af00\">50</span>)        │          <span style=\"color: #00af00; text-decoration-color: #00af00\">0</span> │ -                 │\n",
       "│ (<span style=\"color: #0087ff; text-decoration-color: #0087ff\">InputLayer</span>)        │                   │            │                   │\n",
       "├─────────────────────┼───────────────────┼────────────┼───────────────────┤\n",
       "│ input_layer_1       │ (<span style=\"color: #00d7ff; text-decoration-color: #00d7ff\">None</span>, <span style=\"color: #00af00; text-decoration-color: #00af00\">50</span>)        │          <span style=\"color: #00af00; text-decoration-color: #00af00\">0</span> │ -                 │\n",
       "│ (<span style=\"color: #0087ff; text-decoration-color: #0087ff\">InputLayer</span>)        │                   │            │                   │\n",
       "├─────────────────────┼───────────────────┼────────────┼───────────────────┤\n",
       "│ embedding           │ (<span style=\"color: #00d7ff; text-decoration-color: #00d7ff\">None</span>, <span style=\"color: #00af00; text-decoration-color: #00af00\">50</span>, <span style=\"color: #00af00; text-decoration-color: #00af00\">300</span>)   │  <span style=\"color: #00af00; text-decoration-color: #00af00\">6,000,000</span> │ input_layer[<span style=\"color: #00af00; text-decoration-color: #00af00\">0</span>][<span style=\"color: #00af00; text-decoration-color: #00af00\">0</span>] │\n",
       "│ (<span style=\"color: #0087ff; text-decoration-color: #0087ff\">Embedding</span>)         │                   │            │                   │\n",
       "├─────────────────────┼───────────────────┼────────────┼───────────────────┤\n",
       "│ not_equal           │ (<span style=\"color: #00d7ff; text-decoration-color: #00d7ff\">None</span>, <span style=\"color: #00af00; text-decoration-color: #00af00\">50</span>)        │          <span style=\"color: #00af00; text-decoration-color: #00af00\">0</span> │ input_layer[<span style=\"color: #00af00; text-decoration-color: #00af00\">0</span>][<span style=\"color: #00af00; text-decoration-color: #00af00\">0</span>] │\n",
       "│ (<span style=\"color: #0087ff; text-decoration-color: #0087ff\">NotEqual</span>)          │                   │            │                   │\n",
       "├─────────────────────┼───────────────────┼────────────┼───────────────────┤\n",
       "│ embedding_1         │ (<span style=\"color: #00d7ff; text-decoration-color: #00d7ff\">None</span>, <span style=\"color: #00af00; text-decoration-color: #00af00\">50</span>, <span style=\"color: #00af00; text-decoration-color: #00af00\">300</span>)   │  <span style=\"color: #00af00; text-decoration-color: #00af00\">6,000,000</span> │ input_layer_1[<span style=\"color: #00af00; text-decoration-color: #00af00\">0</span>]… │\n",
       "│ (<span style=\"color: #0087ff; text-decoration-color: #0087ff\">Embedding</span>)         │                   │            │                   │\n",
       "├─────────────────────┼───────────────────┼────────────┼───────────────────┤\n",
       "│ lstm (<span style=\"color: #0087ff; text-decoration-color: #0087ff\">LSTM</span>)         │ [(<span style=\"color: #00d7ff; text-decoration-color: #00d7ff\">None</span>, <span style=\"color: #00af00; text-decoration-color: #00af00\">50</span>, <span style=\"color: #00af00; text-decoration-color: #00af00\">256</span>), │    <span style=\"color: #00af00; text-decoration-color: #00af00\">570,368</span> │ embedding[<span style=\"color: #00af00; text-decoration-color: #00af00\">0</span>][<span style=\"color: #00af00; text-decoration-color: #00af00\">0</span>],  │\n",
       "│                     │ (<span style=\"color: #00d7ff; text-decoration-color: #00d7ff\">None</span>, <span style=\"color: #00af00; text-decoration-color: #00af00\">256</span>),      │            │ not_equal[<span style=\"color: #00af00; text-decoration-color: #00af00\">0</span>][<span style=\"color: #00af00; text-decoration-color: #00af00\">0</span>]   │\n",
       "│                     │ (<span style=\"color: #00d7ff; text-decoration-color: #00d7ff\">None</span>, <span style=\"color: #00af00; text-decoration-color: #00af00\">256</span>)]      │            │                   │\n",
       "├─────────────────────┼───────────────────┼────────────┼───────────────────┤\n",
       "│ lstm_1 (<span style=\"color: #0087ff; text-decoration-color: #0087ff\">LSTM</span>)       │ [(<span style=\"color: #00d7ff; text-decoration-color: #00d7ff\">None</span>, <span style=\"color: #00af00; text-decoration-color: #00af00\">50</span>, <span style=\"color: #00af00; text-decoration-color: #00af00\">256</span>), │    <span style=\"color: #00af00; text-decoration-color: #00af00\">570,368</span> │ embedding_1[<span style=\"color: #00af00; text-decoration-color: #00af00\">0</span>][<span style=\"color: #00af00; text-decoration-color: #00af00\">0</span>… │\n",
       "│                     │ (<span style=\"color: #00d7ff; text-decoration-color: #00d7ff\">None</span>, <span style=\"color: #00af00; text-decoration-color: #00af00\">256</span>),      │            │ lstm[<span style=\"color: #00af00; text-decoration-color: #00af00\">0</span>][<span style=\"color: #00af00; text-decoration-color: #00af00\">1</span>],       │\n",
       "│                     │ (<span style=\"color: #00d7ff; text-decoration-color: #00d7ff\">None</span>, <span style=\"color: #00af00; text-decoration-color: #00af00\">256</span>)]      │            │ lstm[<span style=\"color: #00af00; text-decoration-color: #00af00\">0</span>][<span style=\"color: #00af00; text-decoration-color: #00af00\">2</span>]        │\n",
       "├─────────────────────┼───────────────────┼────────────┼───────────────────┤\n",
       "│ dense (<span style=\"color: #0087ff; text-decoration-color: #0087ff\">Dense</span>)       │ (<span style=\"color: #00d7ff; text-decoration-color: #00d7ff\">None</span>, <span style=\"color: #00af00; text-decoration-color: #00af00\">50</span>, <span style=\"color: #00af00; text-decoration-color: #00af00\">20000</span>) │  <span style=\"color: #00af00; text-decoration-color: #00af00\">5,140,000</span> │ lstm_1[<span style=\"color: #00af00; text-decoration-color: #00af00\">0</span>][<span style=\"color: #00af00; text-decoration-color: #00af00\">0</span>]      │\n",
       "└─────────────────────┴───────────────────┴────────────┴───────────────────┘\n",
       "</pre>\n"
      ],
      "text/plain": [
       "┏━━━━━━━━━━━━━━━━━━━━━┳━━━━━━━━━━━━━━━━━━━┳━━━━━━━━━━━━┳━━━━━━━━━━━━━━━━━━━┓\n",
       "┃\u001b[1m \u001b[0m\u001b[1mLayer (type)       \u001b[0m\u001b[1m \u001b[0m┃\u001b[1m \u001b[0m\u001b[1mOutput Shape     \u001b[0m\u001b[1m \u001b[0m┃\u001b[1m \u001b[0m\u001b[1m   Param #\u001b[0m\u001b[1m \u001b[0m┃\u001b[1m \u001b[0m\u001b[1mConnected to     \u001b[0m\u001b[1m \u001b[0m┃\n",
       "┡━━━━━━━━━━━━━━━━━━━━━╇━━━━━━━━━━━━━━━━━━━╇━━━━━━━━━━━━╇━━━━━━━━━━━━━━━━━━━┩\n",
       "│ input_layer         │ (\u001b[38;5;45mNone\u001b[0m, \u001b[38;5;34m50\u001b[0m)        │          \u001b[38;5;34m0\u001b[0m │ -                 │\n",
       "│ (\u001b[38;5;33mInputLayer\u001b[0m)        │                   │            │                   │\n",
       "├─────────────────────┼───────────────────┼────────────┼───────────────────┤\n",
       "│ input_layer_1       │ (\u001b[38;5;45mNone\u001b[0m, \u001b[38;5;34m50\u001b[0m)        │          \u001b[38;5;34m0\u001b[0m │ -                 │\n",
       "│ (\u001b[38;5;33mInputLayer\u001b[0m)        │                   │            │                   │\n",
       "├─────────────────────┼───────────────────┼────────────┼───────────────────┤\n",
       "│ embedding           │ (\u001b[38;5;45mNone\u001b[0m, \u001b[38;5;34m50\u001b[0m, \u001b[38;5;34m300\u001b[0m)   │  \u001b[38;5;34m6,000,000\u001b[0m │ input_layer[\u001b[38;5;34m0\u001b[0m][\u001b[38;5;34m0\u001b[0m] │\n",
       "│ (\u001b[38;5;33mEmbedding\u001b[0m)         │                   │            │                   │\n",
       "├─────────────────────┼───────────────────┼────────────┼───────────────────┤\n",
       "│ not_equal           │ (\u001b[38;5;45mNone\u001b[0m, \u001b[38;5;34m50\u001b[0m)        │          \u001b[38;5;34m0\u001b[0m │ input_layer[\u001b[38;5;34m0\u001b[0m][\u001b[38;5;34m0\u001b[0m] │\n",
       "│ (\u001b[38;5;33mNotEqual\u001b[0m)          │                   │            │                   │\n",
       "├─────────────────────┼───────────────────┼────────────┼───────────────────┤\n",
       "│ embedding_1         │ (\u001b[38;5;45mNone\u001b[0m, \u001b[38;5;34m50\u001b[0m, \u001b[38;5;34m300\u001b[0m)   │  \u001b[38;5;34m6,000,000\u001b[0m │ input_layer_1[\u001b[38;5;34m0\u001b[0m]… │\n",
       "│ (\u001b[38;5;33mEmbedding\u001b[0m)         │                   │            │                   │\n",
       "├─────────────────────┼───────────────────┼────────────┼───────────────────┤\n",
       "│ lstm (\u001b[38;5;33mLSTM\u001b[0m)         │ [(\u001b[38;5;45mNone\u001b[0m, \u001b[38;5;34m50\u001b[0m, \u001b[38;5;34m256\u001b[0m), │    \u001b[38;5;34m570,368\u001b[0m │ embedding[\u001b[38;5;34m0\u001b[0m][\u001b[38;5;34m0\u001b[0m],  │\n",
       "│                     │ (\u001b[38;5;45mNone\u001b[0m, \u001b[38;5;34m256\u001b[0m),      │            │ not_equal[\u001b[38;5;34m0\u001b[0m][\u001b[38;5;34m0\u001b[0m]   │\n",
       "│                     │ (\u001b[38;5;45mNone\u001b[0m, \u001b[38;5;34m256\u001b[0m)]      │            │                   │\n",
       "├─────────────────────┼───────────────────┼────────────┼───────────────────┤\n",
       "│ lstm_1 (\u001b[38;5;33mLSTM\u001b[0m)       │ [(\u001b[38;5;45mNone\u001b[0m, \u001b[38;5;34m50\u001b[0m, \u001b[38;5;34m256\u001b[0m), │    \u001b[38;5;34m570,368\u001b[0m │ embedding_1[\u001b[38;5;34m0\u001b[0m][\u001b[38;5;34m0\u001b[0m… │\n",
       "│                     │ (\u001b[38;5;45mNone\u001b[0m, \u001b[38;5;34m256\u001b[0m),      │            │ lstm[\u001b[38;5;34m0\u001b[0m][\u001b[38;5;34m1\u001b[0m],       │\n",
       "│                     │ (\u001b[38;5;45mNone\u001b[0m, \u001b[38;5;34m256\u001b[0m)]      │            │ lstm[\u001b[38;5;34m0\u001b[0m][\u001b[38;5;34m2\u001b[0m]        │\n",
       "├─────────────────────┼───────────────────┼────────────┼───────────────────┤\n",
       "│ dense (\u001b[38;5;33mDense\u001b[0m)       │ (\u001b[38;5;45mNone\u001b[0m, \u001b[38;5;34m50\u001b[0m, \u001b[38;5;34m20000\u001b[0m) │  \u001b[38;5;34m5,140,000\u001b[0m │ lstm_1[\u001b[38;5;34m0\u001b[0m][\u001b[38;5;34m0\u001b[0m]      │\n",
       "└─────────────────────┴───────────────────┴────────────┴───────────────────┘\n"
      ]
     },
     "metadata": {},
     "output_type": "display_data"
    },
    {
     "data": {
      "text/html": [
       "<pre style=\"white-space:pre;overflow-x:auto;line-height:normal;font-family:Menlo,'DejaVu Sans Mono',consolas,'Courier New',monospace\"><span style=\"font-weight: bold\"> Total params: </span><span style=\"color: #00af00; text-decoration-color: #00af00\">18,280,736</span> (69.74 MB)\n",
       "</pre>\n"
      ],
      "text/plain": [
       "\u001b[1m Total params: \u001b[0m\u001b[38;5;34m18,280,736\u001b[0m (69.74 MB)\n"
      ]
     },
     "metadata": {},
     "output_type": "display_data"
    },
    {
     "data": {
      "text/html": [
       "<pre style=\"white-space:pre;overflow-x:auto;line-height:normal;font-family:Menlo,'DejaVu Sans Mono',consolas,'Courier New',monospace\"><span style=\"font-weight: bold\"> Trainable params: </span><span style=\"color: #00af00; text-decoration-color: #00af00\">18,280,736</span> (69.74 MB)\n",
       "</pre>\n"
      ],
      "text/plain": [
       "\u001b[1m Trainable params: \u001b[0m\u001b[38;5;34m18,280,736\u001b[0m (69.74 MB)\n"
      ]
     },
     "metadata": {},
     "output_type": "display_data"
    },
    {
     "data": {
      "text/html": [
       "<pre style=\"white-space:pre;overflow-x:auto;line-height:normal;font-family:Menlo,'DejaVu Sans Mono',consolas,'Courier New',monospace\"><span style=\"font-weight: bold\"> Non-trainable params: </span><span style=\"color: #00af00; text-decoration-color: #00af00\">0</span> (0.00 B)\n",
       "</pre>\n"
      ],
      "text/plain": [
       "\u001b[1m Non-trainable params: \u001b[0m\u001b[38;5;34m0\u001b[0m (0.00 B)\n"
      ]
     },
     "metadata": {},
     "output_type": "display_data"
    }
   ],
   "source": [
    "EMB_DIM = 300\n",
    "HID_DIM = 256\n",
    "\n",
    "# Encoder\n",
    "enc_input = Input(shape=(MAX_LEN,))\n",
    "enc_emb   = Embedding(MAX_VOCAB, EMB_DIM, mask_zero=True)(enc_input)\n",
    "enc_out, fh, fc = LSTM(HID_DIM, return_sequences=True, return_state=True)(enc_emb)\n",
    "\n",
    "# Decoder\n",
    "dec_input = Input(shape=(MAX_LEN,))\n",
    "dec_emb   = Embedding(MAX_VOCAB, EMB_DIM, mask_zero=True)(dec_input)\n",
    "dec_out, _, _ = LSTM(HID_DIM, return_sequences=True, return_state=True)(\n",
    "    dec_emb, initial_state=[fh, fc]\n",
    ")\n",
    "dec_dense = Dense(MAX_VOCAB, activation='softmax')\n",
    "dec_output= dec_dense(dec_out)\n",
    "\n",
    "model = Model([enc_input, dec_input], dec_output)\n",
    "model.compile(optimizer='adam', loss='sparse_categorical_crossentropy')\n",
    "model.summary()"
   ]
  },
  {
   "cell_type": "markdown",
   "id": "574fbea5-8ffd-42d8-99ff-25c91ff80f68",
   "metadata": {},
   "source": [
    "## 10. Prepare Targets & Train"
   ]
  },
  {
   "cell_type": "code",
   "execution_count": 25,
   "id": "ae457288-af91-4332-922b-90cd56b9705f",
   "metadata": {},
   "outputs": [
    {
     "name": "stdout",
     "output_type": "stream",
     "text": [
      "Epoch 1/20\n",
      "\u001b[1m6/6\u001b[0m \u001b[32m━━━━━━━━━━━━━━━━━━━━\u001b[0m\u001b[37m\u001b[0m \u001b[1m19s\u001b[0m 3s/step - loss: 9.8978 - val_loss: 9.8877\n",
      "Epoch 2/20\n",
      "\u001b[1m6/6\u001b[0m \u001b[32m━━━━━━━━━━━━━━━━━━━━\u001b[0m\u001b[37m\u001b[0m \u001b[1m12s\u001b[0m 2s/step - loss: 9.8230 - val_loss: 9.6796\n",
      "Epoch 3/20\n",
      "\u001b[1m6/6\u001b[0m \u001b[32m━━━━━━━━━━━━━━━━━━━━\u001b[0m\u001b[37m\u001b[0m \u001b[1m13s\u001b[0m 2s/step - loss: 8.9215 - val_loss: 8.1552\n",
      "Epoch 4/20\n",
      "\u001b[1m6/6\u001b[0m \u001b[32m━━━━━━━━━━━━━━━━━━━━\u001b[0m\u001b[37m\u001b[0m \u001b[1m13s\u001b[0m 2s/step - loss: 6.4329 - val_loss: 7.5755\n",
      "Epoch 5/20\n",
      "\u001b[1m6/6\u001b[0m \u001b[32m━━━━━━━━━━━━━━━━━━━━\u001b[0m\u001b[37m\u001b[0m \u001b[1m15s\u001b[0m 2s/step - loss: 5.1091 - val_loss: 8.1792\n",
      "Epoch 6/20\n",
      "\u001b[1m6/6\u001b[0m \u001b[32m━━━━━━━━━━━━━━━━━━━━\u001b[0m\u001b[37m\u001b[0m \u001b[1m13s\u001b[0m 2s/step - loss: 4.9320 - val_loss: 8.5550\n",
      "Epoch 7/20\n",
      "\u001b[1m6/6\u001b[0m \u001b[32m━━━━━━━━━━━━━━━━━━━━\u001b[0m\u001b[37m\u001b[0m \u001b[1m15s\u001b[0m 3s/step - loss: 4.8529 - val_loss: 8.7188\n",
      "Epoch 8/20\n",
      "\u001b[1m6/6\u001b[0m \u001b[32m━━━━━━━━━━━━━━━━━━━━\u001b[0m\u001b[37m\u001b[0m \u001b[1m14s\u001b[0m 2s/step - loss: 4.8035 - val_loss: 8.7820\n",
      "Epoch 9/20\n",
      "\u001b[1m6/6\u001b[0m \u001b[32m━━━━━━━━━━━━━━━━━━━━\u001b[0m\u001b[37m\u001b[0m \u001b[1m14s\u001b[0m 2s/step - loss: 4.7734 - val_loss: 8.8143\n",
      "Epoch 10/20\n",
      "\u001b[1m6/6\u001b[0m \u001b[32m━━━━━━━━━━━━━━━━━━━━\u001b[0m\u001b[37m\u001b[0m \u001b[1m15s\u001b[0m 3s/step - loss: 4.7533 - val_loss: 8.8581\n",
      "Epoch 11/20\n",
      "\u001b[1m6/6\u001b[0m \u001b[32m━━━━━━━━━━━━━━━━━━━━\u001b[0m\u001b[37m\u001b[0m \u001b[1m14s\u001b[0m 2s/step - loss: 4.7339 - val_loss: 8.8954\n",
      "Epoch 12/20\n",
      "\u001b[1m6/6\u001b[0m \u001b[32m━━━━━━━━━━━━━━━━━━━━\u001b[0m\u001b[37m\u001b[0m \u001b[1m13s\u001b[0m 2s/step - loss: 4.7145 - val_loss: 8.9196\n",
      "Epoch 13/20\n",
      "\u001b[1m6/6\u001b[0m \u001b[32m━━━━━━━━━━━━━━━━━━━━\u001b[0m\u001b[37m\u001b[0m \u001b[1m14s\u001b[0m 2s/step - loss: 4.6965 - val_loss: 8.9390\n",
      "Epoch 14/20\n",
      "\u001b[1m6/6\u001b[0m \u001b[32m━━━━━━━━━━━━━━━━━━━━\u001b[0m\u001b[37m\u001b[0m \u001b[1m14s\u001b[0m 2s/step - loss: 4.6800 - val_loss: 8.9554\n",
      "Epoch 15/20\n",
      "\u001b[1m6/6\u001b[0m \u001b[32m━━━━━━━━━━━━━━━━━━━━\u001b[0m\u001b[37m\u001b[0m \u001b[1m14s\u001b[0m 2s/step - loss: 4.6638 - val_loss: 8.9668\n",
      "Epoch 16/20\n",
      "\u001b[1m6/6\u001b[0m \u001b[32m━━━━━━━━━━━━━━━━━━━━\u001b[0m\u001b[37m\u001b[0m \u001b[1m13s\u001b[0m 2s/step - loss: 4.6482 - val_loss: 8.9760\n",
      "Epoch 17/20\n",
      "\u001b[1m6/6\u001b[0m \u001b[32m━━━━━━━━━━━━━━━━━━━━\u001b[0m\u001b[37m\u001b[0m \u001b[1m13s\u001b[0m 2s/step - loss: 4.6326 - val_loss: 8.9838\n",
      "Epoch 18/20\n",
      "\u001b[1m6/6\u001b[0m \u001b[32m━━━━━━━━━━━━━━━━━━━━\u001b[0m\u001b[37m\u001b[0m \u001b[1m13s\u001b[0m 2s/step - loss: 4.6153 - val_loss: 8.9855\n",
      "Epoch 19/20\n",
      "\u001b[1m6/6\u001b[0m \u001b[32m━━━━━━━━━━━━━━━━━━━━\u001b[0m\u001b[37m\u001b[0m \u001b[1m13s\u001b[0m 2s/step - loss: 4.5966 - val_loss: 8.9818\n",
      "Epoch 20/20\n",
      "\u001b[1m6/6\u001b[0m \u001b[32m━━━━━━━━━━━━━━━━━━━━\u001b[0m\u001b[37m\u001b[0m \u001b[1m14s\u001b[0m 3s/step - loss: 4.5798 - val_loss: 8.9919\n"
     ]
    }
   ],
   "source": [
    "# Decoder inputs and targets\n",
    "dec_in_bal = X_bal_a[:, :-1]               # → (n, 50)\n",
    "y_bal      = np.expand_dims(X_bal_a[:,1:], -1)  # → (n, 50, 1)\n",
    "\n",
    "dec_in_val = X_val_a[:, :-1]\n",
    "y_val      = np.expand_dims(X_val_a[:,1:], -1)\n",
    "\n",
    "history = model.fit(\n",
    "    [X_bal_q,   dec_in_bal],\n",
    "    y_bal,\n",
    "    validation_data=([X_val_q, dec_in_val], y_val),\n",
    "    batch_size=64,\n",
    "    epochs=20\n",
    ")\n"
   ]
  },
  {
   "cell_type": "markdown",
   "id": "549d819b-8162-47f0-8045-1cdce54e6c7e",
   "metadata": {},
   "source": [
    "## 11. Evaluation & BLEU Score"
   ]
  },
  {
   "cell_type": "code",
   "execution_count": 27,
   "id": "aa380abb-de3a-4e92-a1f1-7a35c6320640",
   "metadata": {},
   "outputs": [],
   "source": [
    "from nltk.translate.bleu_score import corpus_bleu, SmoothingFunction"
   ]
  },
  {
   "cell_type": "code",
   "execution_count": 28,
   "id": "1f1ea72c-fb89-46f8-846f-f0a83651cbc2",
   "metadata": {},
   "outputs": [
    {
     "name": "stdout",
     "output_type": "stream",
     "text": [
      "\u001b[1m13/13\u001b[0m \u001b[32m━━━━━━━━━━━━━━━━━━━━\u001b[0m\u001b[37m\u001b[0m \u001b[1m5s\u001b[0m 341ms/step\n",
      "Test BLEU-4 (with smoothing): 0.0000\n"
     ]
    }
   ],
   "source": [
    "# Generate predictions\n",
    "preds = model.predict([X_test_q, X_test_a[:, :-1]])\n",
    "pred_seqs = preds.argmax(axis=-1)\n",
    "\n",
    "# Inverse token map\n",
    "inv_tok = {v:k for k,v in tokenizer.word_index.items()}\n",
    "\n",
    "# References & hypotheses\n",
    "refs = [[ans.split()] for ans in test_df.answer.tolist()]\n",
    "hyps = [[inv_tok.get(i,'<UNK>') for i in seq if i != 0] for seq in pred_seqs]\n",
    "\n",
    "# Set up smoothing\n",
    "smooth_fn = SmoothingFunction().method1\n",
    "\n",
    "# Compute BLEU-4 with smoothing\n",
    "bleu = corpus_bleu(\n",
    "    refs,\n",
    "    hyps,\n",
    "    smoothing_function=smooth_fn\n",
    ")\n",
    "\n",
    "# Save & display\n",
    "pd.DataFrame([{'BLEU': bleu}]).to_csv(\"model_metrics_balanced.csv\", index=False)\n",
    "print(f\"Test BLEU-4 (with smoothing): {bleu:.4f}\")\n"
   ]
  },
  {
   "cell_type": "markdown",
   "id": "1cb12653-946d-4ab0-bbdd-97e69f3b90f0",
   "metadata": {},
   "source": [
    "## 12. Export Additional CSVs for Tableau"
   ]
  },
  {
   "cell_type": "code",
   "execution_count": 30,
   "id": "d69666bc-6636-4d75-bcfd-35ccef345e9b",
   "metadata": {},
   "outputs": [],
   "source": [
    "# 12.1 Token Frequencies\n",
    "freq_df = pd.DataFrame(top10, columns=['token','count'])\n",
    "freq_df.to_csv(\"token_frequencies.csv\", index=False)\n",
    "\n",
    "# 12.2 Avg Seq Length by Intent (on test set)\n",
    "test_df['q_len'] = test_df.q_tokens.apply(len)\n",
    "seq_intent = test_df.groupby('intent')['q_len'].mean().reset_index()\n",
    "seq_intent.to_csv(\"seq_len_by_intent.csv\", index=False)\n"
   ]
  },
  {
   "cell_type": "markdown",
   "id": "3ab512b8-146b-435d-8916-68a8a9757f5f",
   "metadata": {},
   "source": [
    "## Next Steps\n",
    "\n",
    "1. Open Tableau → connect to each CSV → build sheets:  \n",
    "   - **Loss Curves** (`training_history_balanced.csv`)  \n",
    "   - **Token Freq** (`token_frequencies.csv`)  \n",
    "   - **BLEU KPI** (`model_metrics_balanced.csv`)  \n",
    "   - **Intent Seq-Len** (`seq_len_by_intent.csv`)  \n",
    "2. Assemble into a dashboard with filters/annotations.  \n",
    "3. Publish or export for submission.\n"
   ]
  },
  {
   "cell_type": "code",
   "execution_count": 51,
   "id": "0248b6ac-d8e2-4b36-a7cd-477bab1d5cd4",
   "metadata": {},
   "outputs": [
    {
     "name": "stdout",
     "output_type": "stream",
     "text": [
      "Saved training_history_balanced.csv\n",
      "Saved model_metrics_balanced.csv\n",
      "Saved token_frequencies.csv\n",
      "Saved seq_len_by_intent.csv\n"
     ]
    }
   ],
   "source": [
    "# compute seq_len_by_intent\n",
    "# Make sure test_df has the tokenized column `q_tokens`\n",
    "seq_len_by_intent = (\n",
    "    test_df\n",
    "    .assign(q_len=test_df['q_tokens'].apply(len))\n",
    "    .groupby('intent', as_index=False)['q_len']\n",
    "    .mean()\n",
    ")\n",
    "\n",
    "# 1. Training history\n",
    "hist_df = pd.DataFrame(history.history)\n",
    "hist_df.to_csv(\"training_history_balanced.csv\", index=False)\n",
    "print(\"Saved training_history_balanced.csv\")\n",
    "\n",
    "# 2. BLEU score\n",
    "metrics_df = pd.DataFrame([{\"BLEU\": bleu}])\n",
    "metrics_df.to_csv(\"model_metrics_balanced.csv\", index=False)\n",
    "print(\"Saved model_metrics_balanced.csv\")\n",
    "\n",
    "# 3. Token frequencies\n",
    "# (Assumes you still have `top10 = [(token,count), …]`)\n",
    "freq_df = pd.DataFrame(top10, columns=[\"token\",\"count\"])\n",
    "freq_df.to_csv(\"token_frequencies.csv\", index=False)\n",
    "print(\"Saved token_frequencies.csv\")\n",
    "\n",
    "# 4. Sequence length by intent\n",
    "seq_len_by_intent.to_csv(\"seq_len_by_intent.csv\", index=False)\n",
    "print(\"Saved seq_len_by_intent.csv\")\n"
   ]
  },
  {
   "cell_type": "code",
   "execution_count": 53,
   "id": "7a3593d7-1cd3-48e8-a0be-0b1b56e045d4",
   "metadata": {},
   "outputs": [
    {
     "name": "stdout",
     "output_type": "stream",
     "text": [
      "Saved training_history_balanced.csv with epoch\n"
     ]
    }
   ],
   "source": [
    "# Convert history to DataFrame\n",
    "hist_df = pd.DataFrame(history.history)\n",
    "\n",
    "# Add an epoch column (1-indexed)\n",
    "hist_df.insert(0, \"epoch\", np.arange(1, len(hist_df) + 1))\n",
    "\n",
    "# Now save with the epoch column\n",
    "hist_df.to_csv(\"training_history_balanced.csv\", index=False)\n",
    "print(\"Saved training_history_balanced.csv with epoch\")"
   ]
  },
  {
   "cell_type": "code",
   "execution_count": 55,
   "id": "b515b7f5-0919-49fb-9cd3-b145dc53929b",
   "metadata": {},
   "outputs": [
    {
     "name": "stdout",
     "output_type": "stream",
     "text": [
      "Saved token_frequencies.csv\n"
     ]
    }
   ],
   "source": [
    "# Assuming you still have top10 = [(token,count),…]\n",
    "freq_df = pd.DataFrame(top10, columns=['token','count'])\n",
    "freq_df.to_csv(\"token_frequencies.csv\", index=False)\n",
    "print(\"Saved token_frequencies.csv\")"
   ]
  },
  {
   "cell_type": "code",
   "execution_count": 57,
   "id": "28f7ade0-e016-4b8a-a624-653e5fa828a9",
   "metadata": {},
   "outputs": [
    {
     "name": "stdout",
     "output_type": "stream",
     "text": [
      "Saved model_metrics_balanced.csv\n"
     ]
    }
   ],
   "source": [
    "bleu_df = pd.DataFrame([{'BLEU': bleu}])\n",
    "bleu_df.to_csv(\"model_metrics_balanced.csv\", index=False)\n",
    "print(\"Saved model_metrics_balanced.csv\")"
   ]
  },
  {
   "cell_type": "code",
   "execution_count": 59,
   "id": "6baaba6e-6cbb-4738-bfb8-b65ac81850c7",
   "metadata": {},
   "outputs": [
    {
     "name": "stdout",
     "output_type": "stream",
     "text": [
      "Saved seq_len_by_intent.csv\n"
     ]
    }
   ],
   "source": [
    "seq_len_by_intent = (\n",
    "    test_df\n",
    "    .assign(q_len=test_df.q_tokens.apply(len))\n",
    "    .groupby('intent', as_index=False)['q_len']\n",
    "    .mean()\n",
    ")\n",
    "seq_len_by_intent.to_csv(\"seq_len_by_intent.csv\", index=False)\n",
    "print(\"Saved seq_len_by_intent.csv\")"
   ]
  },
  {
   "cell_type": "code",
   "execution_count": 63,
   "id": "157af940-06d1-4435-be35-b77baca6cb75",
   "metadata": {},
   "outputs": [],
   "source": [
    "# Imports & Configuration\n",
    "import csv\n",
    "import matplotlib.pyplot as plt"
   ]
  },
  {
   "cell_type": "code",
   "execution_count": 65,
   "id": "14313a32-5906-423b-bd0f-20287db4cd55",
   "metadata": {},
   "outputs": [
    {
     "data": {
      "image/png": "[encoded data removed]",
      "text/plain": [
       "<Figure size 800x500 with 1 Axes>"
      ]
     },
     "metadata": {},
     "output_type": "display_data"
    }
   ],
   "source": [
    "# Sequence Length Distribution\n",
    "q_lens = []\n",
    "with open('seq_len_by_intent.csv', newline='') as f:\n",
    "    reader = csv.DictReader(f)\n",
    "    for row in reader:\n",
    "        q_lens.append(float(row['q_len']))\n",
    "\n",
    "plt.figure(figsize=(8, 5))\n",
    "plt.hist(q_lens, bins=20)\n",
    "plt.title('Sequence Length Distribution')\n",
    "plt.xlabel('Sequence Length (tokens)')\n",
    "plt.ylabel('Number of Examples')\n",
    "plt.tight_layout()\n",
    "plt.savefig('sequence_length_dist.png')\n",
    "plt.show()"
   ]
  },
  {
   "cell_type": "code",
   "execution_count": 67,
   "id": "1e328ad3-fc7e-4dd3-b9da-c318c621599d",
   "metadata": {},
   "outputs": [
    {
     "data": {
      "image/png": "[encoded data removed]",
      "text/plain": [
       "<Figure size 800x500 with 1 Axes>"
      ]
     },
     "metadata": {},
     "output_type": "display_data"
    }
   ],
   "source": [
    "# Top 10 Token Frequencies\n",
    "tokens, counts = [], []\n",
    "with open('token_frequencies.csv', newline='') as f:\n",
    "    reader = csv.DictReader(f)\n",
    "    for i, row in enumerate(reader):\n",
    "        if i >= 10: break\n",
    "        tokens.append(row['token'])\n",
    "        counts.append(int(row['count']))\n",
    "\n",
    "plt.figure(figsize=(8, 5))\n",
    "plt.bar(tokens, counts)\n",
    "plt.title('Top 10 Most Frequent Tokens')\n",
    "plt.xlabel('Token')\n",
    "plt.ylabel('Count')\n",
    "plt.xticks(rotation=45, ha='right')\n",
    "plt.tight_layout()\n",
    "plt.savefig('top_tokens_freq.png')\n",
    "plt.show()"
   ]
  },
  {
   "cell_type": "code",
   "execution_count": 69,
   "id": "7fd05488-a1a9-414d-b1a9-5e715582bb55",
   "metadata": {},
   "outputs": [
    {
     "data": {
      "image/png": "[encoded data removed]",
      "text/plain": [
       "<Figure size 800x500 with 1 Axes>"
      ]
     },
     "metadata": {},
     "output_type": "display_data"
    }
   ],
   "source": [
    "# Training vs. Validation Loss Over Epochs\n",
    "losses, val_losses = [], []\n",
    "with open('training_history_balanced.csv', newline='') as f:\n",
    "    reader = csv.DictReader(f)\n",
    "    for row in reader:\n",
    "        losses.append(float(row['loss']))\n",
    "        val_losses.append(float(row['val_loss']))\n",
    "\n",
    "plt.figure(figsize=(8, 5))\n",
    "plt.plot(losses, label='Training Loss')\n",
    "plt.plot(val_losses, label='Validation Loss')\n",
    "plt.title('Training vs. Validation Loss Over Epochs')\n",
    "plt.xlabel('Epoch')\n",
    "plt.ylabel('Loss')\n",
    "plt.legend()\n",
    "plt.tight_layout()\n",
    "plt.savefig('loss_plot.png')\n",
    "plt.show()"
   ]
  },
  {
   "cell_type": "code",
   "execution_count": null,
   "id": "b383b6d3-e893-4835-b13c-099ed99f8724",
   "metadata": {},
   "outputs": [],
   "source": []
  }
 ],
 "metadata": {
  "kernelspec": {
   "display_name": "Python [conda env:base] *",
   "language": "python",
   "name": "conda-base-py"
  },
  "language_info": {
   "codemirror_mode": {
    "name": "ipython",
    "version": 3
   },
   "file_extension": ".py",
   "mimetype": "text/x-python",
   "name": "python",
   "nbconvert_exporter": "python",
   "pygments_lexer": "ipython3",
   "version": "3.11.5"
  }
 },
 "nbformat": 4,
 "nbformat_minor": 5
}
